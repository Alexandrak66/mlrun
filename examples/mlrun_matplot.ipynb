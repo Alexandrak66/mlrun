{
 "cells": [
  {
   "cell_type": "code",
   "execution_count": 1,
   "metadata": {},
   "outputs": [],
   "source": [
    "from mlrun import get_or_create_ctx, run_start\n",
    "from mlrun.artifacts import ChartArtifact, TableArtifact, PlotArtifact\n",
    "import matplotlib.pyplot as plt\n",
    "import numpy as np\n",
    "import yaml\n",
    "import pandas as pd"
   ]
  },
  {
   "cell_type": "code",
   "execution_count": 2,
   "metadata": {},
   "outputs": [],
   "source": [
    " def handler(spec):\n",
    "    context = get_or_create_ctx('matplot', spec=spec)\n",
    "\n",
    "    # get parameters from the runtime context (or use defaults)\n",
    "    p1 = context.get_param('p1', 1)\n",
    "    p2 = context.get_param('p2', 'a-string')\n",
    "\n",
    "    # access input metadata, values, files, and secrets (passwords)\n",
    "    print(f'Run: {context.name} (uid={context.uid})')\n",
    "    print(f'Params: p1={p1}, p2={p2}')\n",
    "    print('accesskey = {}'.format(context.get_secret('ACCESS_KEY')))\n",
    "    print('file\\n{}\\n'.format(context.get_object('infile.txt').get()))\n",
    "\n",
    "    # RUN some useful code e.g. ML training, data prep, etc.\n",
    "\n",
    "    # log scalar result values (job result metrics)\n",
    "    context.log_result('accuracy', p1 * 2)\n",
    "    context.log_result('loss', p1 * 3)\n",
    "    context.set_label('framework', 'sklearn')\n",
    "\n",
    "    # log various types of artifacts (file, web page, table), will be versioned and visible in the UI\n",
    "    context.log_artifact('model.txt', body=b'abc is 123', labels={'framework': 'xgboost'})\n",
    "    \n",
    "    fig, ax = plt.subplots()\n",
    "    np.random.seed(0)\n",
    "    x, y = np.random.normal(size=(2, 200))\n",
    "    color, size = np.random.random((2, 200))\n",
    "    ax.scatter(x, y, c=color, s=500 * size, alpha=0.3)\n",
    "    ax.grid(color='lightgray', alpha=0.7)\n",
    "    \n",
    "    context.log_artifact(PlotArtifact('myfig', body=fig))\n",
    "    \n",
    "    df = pd.DataFrame([{'A':10, 'B':100}, {'A':11,'B':110}, {'A':12,'B':120}])\n",
    "    context.log_artifact(TableArtifact('mydf.csv', df=df, visible=True))\n",
    "    \n",
    "    return context"
   ]
  },
  {
   "cell_type": "code",
   "execution_count": null,
   "metadata": {},
   "outputs": [],
   "source": [
    "resp = run_start({}, handler=handler, rundb='./')"
   ]
  },
  {
   "cell_type": "code",
   "execution_count": null,
   "metadata": {},
   "outputs": [],
   "source": []
  }
 ],
 "metadata": {
  "kernelspec": {
   "display_name": "Python 3",
   "language": "python",
   "name": "python3"
  },
  "language_info": {
   "codemirror_mode": {
    "name": "ipython",
    "version": 3
   },
   "file_extension": ".py",
   "mimetype": "text/x-python",
   "name": "python",
   "nbconvert_exporter": "python",
   "pygments_lexer": "ipython3",
   "version": "3.6.8"
  }
 },
 "nbformat": 4,
 "nbformat_minor": 2
}
