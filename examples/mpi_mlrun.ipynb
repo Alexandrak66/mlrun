{
 "cells": [
  {
   "cell_type": "markdown",
   "metadata": {},
   "source": [
    "# Using MLRUN with Horovod (MPIJob)"
   ]
  },
  {
   "cell_type": "code",
   "execution_count": 1,
   "metadata": {},
   "outputs": [],
   "source": [
    "from mlrun import run_start\n",
    "from mlrun.runtimes import MpiJob"
   ]
  },
  {
   "cell_type": "code",
   "execution_count": 2,
   "metadata": {},
   "outputs": [],
   "source": [
    "HOROVOD_JOB_NAME = \"horovod-cats-n-dogs\""
   ]
  },
  {
   "cell_type": "code",
   "execution_count": 3,
   "metadata": {},
   "outputs": [
    {
     "data": {
      "text/plain": [
       "<mlrun.runtimes.mpijob.MpiJob at 0x7f9a9a96b320>"
      ]
     },
     "execution_count": 3,
     "metadata": {},
     "output_type": "execute_result"
    }
   ],
   "source": [
    "job = MpiJob(HOROVOD_JOB_NAME, 'iguaziodocker/horovod:0.1.1', ['/User/horovod/hvd_dogncat.py',\n",
    "                                                  '/User/demos/image-classification/cats_and_dogs_filtered',\n",
    "                                                               '/User/horovod'])\n",
    "job.replicas(2)\n",
    "job.volume()"
   ]
  },
  {
   "cell_type": "code",
   "execution_count": null,
   "metadata": {},
   "outputs": [],
   "source": [
    "run_start({}, runtime=job, rundb='/User')"
   ]
  },
  {
   "cell_type": "code",
   "execution_count": 5,
   "metadata": {},
   "outputs": [],
   "source": [
    "!kubectl get pods | grep $HOROVOD_JOB_NAME"
   ]
  },
  {
   "cell_type": "code",
   "execution_count": 4,
   "metadata": {},
   "outputs": [
    {
     "name": "stdout",
     "output_type": "stream",
     "text": [
      "{'apiVersion': 'kubeflow.org/v1alpha1',\n",
      " 'kind': 'MPIJob',\n",
      " 'metadata': {'creationTimestamp': '2019-07-07T15:08:22Z',\n",
      "              'generation': 1,\n",
      "              'name': 'horovod-cats-n-dogs',\n",
      "              'namespace': 'default-tenant',\n",
      "              'resourceVersion': '28078',\n",
      "              'selfLink': '/apis/kubeflow.org/v1alpha1/namespaces/default-tenant/mpijobs/horovod-cats-n-dogs',\n",
      "              'uid': '0f899fbc-a0c9-11e9-bfb4-0ac161b53ba0'},\n",
      " 'spec': {'backoffLimit': 6,\n",
      "          'replicas': 8,\n",
      "          'template': {'metadata': {'creationTimestamp': None},\n",
      "                       'spec': {'containers': [{'command': ['mpirun',\n",
      "                                                            'python',\n",
      "                                                            '/User/horovod/hvd_dogncat.py',\n",
      "                                                            '/User/demos/image-classification/cats_and_dogs_filtered',\n",
      "                                                            '/User/horovod'],\n",
      "                                                'image': 'iguaziodocker/horovod:0.1.1',\n",
      "                                                'name': 'horovod-cats-n-dogs',\n",
      "                                                'resources': {'limits': {'nvidia.com/gpu': '0'}},\n",
      "                                                'securityContext': {'capabilities': {'add': ['IPC_LOCK']}},\n",
      "                                                'volumeMounts': [{'mountPath': '/User',\n",
      "                                                                  'name': 'v3io'}]}],\n",
      "                                'volumes': [{'flexVolume': {'driver': 'v3io/fuse',\n",
      "                                                            'options': {'accessKey': '142f3e1b-0706-4c4f-bd66-5286c2d87951',\n",
      "                                                                        'container': 'users',\n",
      "                                                                        'subPath': '/iguazio'}},\n",
      "                                             'name': 'v3io'}]}}},\n",
      " 'status': {'launcherStatus': 'Failed', 'startTime': '2019-07-07T15:08:27Z'}}\n"
     ]
    }
   ],
   "source": [
    "job.status()"
   ]
  },
  {
   "cell_type": "code",
   "execution_count": null,
   "metadata": {},
   "outputs": [],
   "source": [
    "job.delete()"
   ]
  },
  {
   "cell_type": "code",
   "execution_count": null,
   "metadata": {},
   "outputs": [],
   "source": []
  }
 ],
 "metadata": {
  "kernelspec": {
   "display_name": "Python 3",
   "language": "python",
   "name": "python3"
  },
  "language_info": {
   "codemirror_mode": {
    "name": "ipython",
    "version": 3
   },
   "file_extension": ".py",
   "mimetype": "text/x-python",
   "name": "python",
   "nbconvert_exporter": "python",
   "pygments_lexer": "ipython3",
   "version": "3.6.8"
  }
 },
 "nbformat": 4,
 "nbformat_minor": 2
}
