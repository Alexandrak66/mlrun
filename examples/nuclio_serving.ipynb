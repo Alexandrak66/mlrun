{
 "cells": [
  {
   "cell_type": "code",
   "execution_count": 1,
   "metadata": {},
   "outputs": [],
   "source": [
    "# nuclio: ignore\n",
    "# if the nuclio-jupyter package is not installed run !pip install nuclio-jupyter\n",
    "import nuclio "
   ]
  },
  {
   "cell_type": "code",
   "execution_count": 4,
   "metadata": {
    "collapsed": true,
    "jupyter": {
     "outputs_hidden": true
    }
   },
   "outputs": [
    {
     "name": "stdout",
     "output_type": "stream",
     "text": [
      "Collecting kfserving\n",
      "\u001b[?25l  Downloading https://files.pythonhosted.org/packages/a7/0d/372210513cef149b50ed54b64b6665849aebddf194e41722884bffb5e61f/kfserving-0.1.1-py3-none-any.whl (51kB)\n",
      "\u001b[K    100% |████████████████████████████████| 61kB 2.7MB/s ta 0:00:011\n",
      "\u001b[?25hCollecting azure-storage-blob>=2.0.1 (from kfserving)\n",
      "\u001b[?25l  Downloading https://files.pythonhosted.org/packages/3e/84/610f379b46d7d3c2d48eadeed6a12b6d46a43100fea70534f5992d0ac996/azure_storage_blob-2.1.0-py2.py3-none-any.whl (88kB)\n",
      "\u001b[K    100% |████████████████████████████████| 92kB 7.9MB/s ta 0:00:011\n",
      "\u001b[?25hRequirement already satisfied: six>=1.10 in /conda/lib/python3.6/site-packages (from kfserving) (1.12.0)\n",
      "Requirement already satisfied: tornado>=1.4.1 in /User/.pythonlibs/lib/python3.6/site-packages (from kfserving) (5.1.1)\n",
      "Requirement already satisfied: setuptools>=21.0.0 in /conda/lib/python3.6/site-packages (from kfserving) (41.0.1)\n",
      "Requirement already satisfied: python-dateutil>=2.5.3 in /conda/lib/python3.6/site-packages (from kfserving) (2.8.0)\n",
      "Requirement already satisfied: urllib3>=1.15.1 in /conda/lib/python3.6/site-packages (from kfserving) (1.24.2)\n",
      "Requirement already satisfied: google-cloud-storage>=1.16.0 in /User/.pythonlibs/lib/python3.6/site-packages (from kfserving) (1.19.0)\n",
      "Collecting argparse>=1.4.0 (from kfserving)\n",
      "  Downloading https://files.pythonhosted.org/packages/f2/94/3af39d34be01a24a6e65433d19e107099374224905f1e0cc6bbe1fd22a2f/argparse-1.4.0-py2.py3-none-any.whl\n",
      "Requirement already satisfied: kubernetes>=9.0.0 in /User/.pythonlibs/lib/python3.6/site-packages (from kfserving) (9.0.0)\n",
      "Requirement already satisfied: certifi>=14.05.14 in /conda/lib/python3.6/site-packages (from kfserving) (2019.6.16)\n",
      "Requirement already satisfied: numpy in /conda/lib/python3.6/site-packages (from kfserving) (1.16.4)\n",
      "Collecting minio>=4.0.9 (from kfserving)\n",
      "\u001b[?25l  Downloading https://files.pythonhosted.org/packages/88/35/0b11ce7f9585019f38d501e445802ccbafe9f423fdbc58f28663db829ef8/minio-5.0.0-py2.py3-none-any.whl (62kB)\n",
      "\u001b[K    100% |████████████████████████████████| 71kB 30.8MB/s ta 0:00:01\n",
      "\u001b[?25hCollecting azure-common>=1.1.5 (from azure-storage-blob>=2.0.1->kfserving)\n",
      "  Downloading https://files.pythonhosted.org/packages/00/55/a703923c12cd3172d5c007beda0c1a34342a17a6a72779f8a7c269af0cd6/azure_common-1.1.23-py2.py3-none-any.whl\n",
      "Collecting azure-storage-common~=2.1 (from azure-storage-blob>=2.0.1->kfserving)\n",
      "\u001b[?25l  Downloading https://files.pythonhosted.org/packages/6b/a0/6794b318ce0118d1a4053bdf0149a60807407db9b710354f2b203c2f5975/azure_storage_common-2.1.0-py2.py3-none-any.whl (47kB)\n",
      "\u001b[K    100% |████████████████████████████████| 51kB 19.1MB/s ta 0:00:01\n",
      "\u001b[?25hRequirement already satisfied: google-cloud-core<2.0dev,>=1.0.3 in /User/.pythonlibs/lib/python3.6/site-packages (from google-cloud-storage>=1.16.0->kfserving) (1.0.3)\n",
      "Requirement already satisfied: google-resumable-media>=0.3.1 in /User/.pythonlibs/lib/python3.6/site-packages (from google-cloud-storage>=1.16.0->kfserving) (0.4.0)\n",
      "Requirement already satisfied: google-auth>=1.2.0 in /User/.pythonlibs/lib/python3.6/site-packages (from google-cloud-storage>=1.16.0->kfserving) (1.6.3)\n",
      "Requirement already satisfied: websocket-client!=0.40.0,!=0.41.*,!=0.42.*,>=0.32.0 in /User/.pythonlibs/lib/python3.6/site-packages (from kubernetes>=9.0.0->kfserving) (0.56.0)\n",
      "Requirement already satisfied: pyyaml>=3.12 in /conda/lib/python3.6/site-packages (from kubernetes>=9.0.0->kfserving) (5.1.2)\n",
      "Requirement already satisfied: requests in /conda/lib/python3.6/site-packages (from kubernetes>=9.0.0->kfserving) (2.22.0)\n",
      "Requirement already satisfied: requests-oauthlib in /User/.pythonlibs/lib/python3.6/site-packages (from kubernetes>=9.0.0->kfserving) (1.2.0)\n",
      "Requirement already satisfied: pytz in /conda/lib/python3.6/site-packages (from minio>=4.0.9->kfserving) (2019.2)\n",
      "Requirement already satisfied: future in /conda/lib/python3.6/site-packages (from minio>=4.0.9->kfserving) (0.17.1)\n",
      "Requirement already satisfied: cryptography in /conda/lib/python3.6/site-packages (from azure-storage-common~=2.1->azure-storage-blob>=2.0.1->kfserving) (2.7)\n",
      "Requirement already satisfied: google-api-core<2.0.0dev,>=1.14.0 in /User/.pythonlibs/lib/python3.6/site-packages (from google-cloud-core<2.0dev,>=1.0.3->google-cloud-storage>=1.16.0->kfserving) (1.14.2)\n",
      "Requirement already satisfied: pyasn1-modules>=0.2.1 in /User/.pythonlibs/lib/python3.6/site-packages (from google-auth>=1.2.0->google-cloud-storage>=1.16.0->kfserving) (0.2.6)\n",
      "Requirement already satisfied: rsa>=3.1.4 in /User/.pythonlibs/lib/python3.6/site-packages (from google-auth>=1.2.0->google-cloud-storage>=1.16.0->kfserving) (4.0)\n",
      "Requirement already satisfied: cachetools>=2.0.0 in /User/.pythonlibs/lib/python3.6/site-packages (from google-auth>=1.2.0->google-cloud-storage>=1.16.0->kfserving) (3.1.1)\n",
      "Requirement already satisfied: idna<2.9,>=2.5 in /conda/lib/python3.6/site-packages (from requests->kubernetes>=9.0.0->kfserving) (2.8)\n",
      "Requirement already satisfied: chardet<3.1.0,>=3.0.2 in /conda/lib/python3.6/site-packages (from requests->kubernetes>=9.0.0->kfserving) (3.0.4)\n",
      "Requirement already satisfied: oauthlib>=3.0.0 in /User/.pythonlibs/lib/python3.6/site-packages (from requests-oauthlib->kubernetes>=9.0.0->kfserving) (3.1.0)\n",
      "Requirement already satisfied: cffi!=1.11.3,>=1.8 in /conda/lib/python3.6/site-packages (from cryptography->azure-storage-common~=2.1->azure-storage-blob>=2.0.1->kfserving) (1.12.3)\n",
      "Requirement already satisfied: asn1crypto>=0.21.0 in /conda/lib/python3.6/site-packages (from cryptography->azure-storage-common~=2.1->azure-storage-blob>=2.0.1->kfserving) (0.24.0)\n",
      "Requirement already satisfied: googleapis-common-protos<2.0dev,>=1.6.0 in /conda/lib/python3.6/site-packages (from google-api-core<2.0.0dev,>=1.14.0->google-cloud-core<2.0dev,>=1.0.3->google-cloud-storage>=1.16.0->kfserving) (1.6.0)\n",
      "Requirement already satisfied: protobuf>=3.4.0 in /conda/lib/python3.6/site-packages (from google-api-core<2.0.0dev,>=1.14.0->google-cloud-core<2.0dev,>=1.0.3->google-cloud-storage>=1.16.0->kfserving) (3.9.1)\n",
      "Requirement already satisfied: pyasn1<0.5.0,>=0.4.6 in /User/.pythonlibs/lib/python3.6/site-packages (from pyasn1-modules>=0.2.1->google-auth>=1.2.0->google-cloud-storage>=1.16.0->kfserving) (0.4.7)\n",
      "Requirement already satisfied: pycparser in /conda/lib/python3.6/site-packages (from cffi!=1.11.3,>=1.8->cryptography->azure-storage-common~=2.1->azure-storage-blob>=2.0.1->kfserving) (2.19)\n",
      "Installing collected packages: azure-common, azure-storage-common, azure-storage-blob, argparse, minio, kfserving\n",
      "Successfully installed argparse-1.4.0 azure-common-1.1.23 azure-storage-blob-2.1.0 azure-storage-common-2.1.0 kfserving-0.1.1 minio-5.0.0\n",
      "Requirement already satisfied: numpy in /conda/lib/python3.6/site-packages (1.16.4)\n",
      "Requirement already satisfied: xgboost in /User/.pythonlibs/lib/python3.6/site-packages (0.90)\n",
      "Requirement already satisfied: scipy in /conda/lib/python3.6/site-packages (from xgboost) (1.3.1)\n",
      "Requirement already satisfied: numpy in /conda/lib/python3.6/site-packages (from xgboost) (1.16.4)\n"
     ]
    }
   ],
   "source": [
    "%%nuclio cmd\n",
    "pip install kfserving\n",
    "pip install numpy\n",
    "pip install xgboost"
   ]
  },
  {
   "cell_type": "code",
   "execution_count": 2,
   "metadata": {},
   "outputs": [],
   "source": [
    "import kfserving\n",
    "import os\n",
    "import numpy as np\n",
    "from typing import List, Any\n",
    "\n",
    "import xgboost as xgb"
   ]
  },
  {
   "cell_type": "code",
   "execution_count": 3,
   "metadata": {},
   "outputs": [],
   "source": [
    "BOOSTER_FILE = \"model.bst\"\n",
    "\n",
    "class XGBoostModel(kfserving.KFModel):\n",
    "    def __init__(self, name: str, model_dir: str, booster: xgb.XGBModel = None):\n",
    "        super().__init__(name)\n",
    "        self.name = name\n",
    "        self.model_dir = model_dir\n",
    "        if not booster is None:\n",
    "            self._booster = booster\n",
    "            self.ready = True\n",
    "\n",
    "    def load(self):\n",
    "        model_file = os.path.join(\n",
    "            kfserving.Storage.download(self.model_dir), BOOSTER_FILE)\n",
    "        self._booster = xgb.Booster(model_file=model_file)\n",
    "        self.ready = True\n",
    "\n",
    "    def predict(self, body: List) -> List:\n",
    "        try:\n",
    "            # Use of list as input is deprecated see https://github.com/dmlc/xgboost/pull/3970\n",
    "            dmatrix = xgb.DMatrix(body)\n",
    "            result: xgb.DMatrix = self._booster.predict(dmatrix)\n",
    "            return result.tolist()\n",
    "        except Exception as e:\n",
    "            raise Exception(\"Failed to predict %s\" % e)\n"
   ]
  },
  {
   "cell_type": "code",
   "execution_count": 2,
   "metadata": {},
   "outputs": [],
   "source": [
    "# nuclio: end-code\n",
    "from mlrun import new_model_server\n",
    "import requests"
   ]
  },
  {
   "cell_type": "code",
   "execution_count": 3,
   "metadata": {},
   "outputs": [
    {
     "data": {
      "text/plain": [
       "<mlrun.runtimes.function.RemoteRuntime at 0x7fb7a9f5dba8>"
      ]
     },
     "execution_count": 3,
     "metadata": {},
     "output_type": "execute_result"
    }
   ],
   "source": [
    "fn = new_model_server('mysrv2', models={'netops_v1': 'file:///User/mlrun/models'}, model_class='XGBoostModel')\n",
    "fn.with_v3io('User','~/') "
   ]
  },
  {
   "cell_type": "code",
   "execution_count": 4,
   "metadata": {},
   "outputs": [
    {
     "name": "stdout",
     "output_type": "stream",
     "text": [
      "[nuclio.deploy] 2019-09-21 18:57:43,104 (info) Building processor image\n",
      "[nuclio.deploy] 2019-09-21 18:57:48,145 (info) Build complete\n",
      "[nuclio.deploy] 2019-09-21 18:57:54,198 (info) Function deploy complete\n",
      "[nuclio.deploy] 2019-09-21 18:57:54,204 done updating mysrv2, function address: 18.221.60.238:30585\n"
     ]
    }
   ],
   "source": [
    "addr = fn.deploy(project='xgb')"
   ]
  },
  {
   "cell_type": "code",
   "execution_count": 5,
   "metadata": {},
   "outputs": [],
   "source": [
    "# Seldon protocol event\n",
    "event_seldon = {\"data\": {\"ndarray\": [[5], [10]]}}\n",
    "csel = str(event_seldon).replace(\"\\'\", \"\\\"\")"
   ]
  },
  {
   "cell_type": "code",
   "execution_count": 6,
   "metadata": {},
   "outputs": [
    {
     "name": "stdout",
     "output_type": "stream",
     "text": [
      "b'{\"data\": {\"ndarray\": [[0.9823893308639526, 0.003680035937577486, 0.0034835119731724262, 0.0014924356946721673, 0.0014924356946721673, 0.0014924356946721673, 0.0014924356946721673, 0.0014924356946721673, 0.0014924356946721673, 0.0014924356946721673], [0.976058304309845, 0.009153352119028568, 0.004408582113683224, 0.0014828175771981478, 0.0014828175771981478, 0.0014828175771981478, 0.0014828175771981478, 0.0014828175771981478, 0.0014828175771981478, 0.0014828175771981478]]}}'\n"
     ]
    }
   ],
   "source": [
    "resp = requests.put(addr + '/predict/netops_v1', data=csel)\n",
    "print(resp.content)"
   ]
  },
  {
   "cell_type": "code",
   "execution_count": null,
   "metadata": {},
   "outputs": [],
   "source": [
    "# convert to KubeFlow Pipelines step (which deploy the function)\n",
    "# should be inside a pipeline DSL \n",
    "fn.deploy_step()"
   ]
  },
  {
   "cell_type": "code",
   "execution_count": null,
   "metadata": {},
   "outputs": [],
   "source": [
    "fn.to_dict()"
   ]
  },
  {
   "cell_type": "code",
   "execution_count": null,
   "metadata": {},
   "outputs": [],
   "source": []
  }
 ],
 "metadata": {
  "kernelspec": {
   "display_name": "Python 3",
   "language": "python",
   "name": "python3"
  },
  "language_info": {
   "codemirror_mode": {
    "name": "ipython",
    "version": 3
   },
   "file_extension": ".py",
   "mimetype": "text/x-python",
   "name": "python",
   "nbconvert_exporter": "python",
   "pygments_lexer": "ipython3",
   "version": "3.6.8"
  }
 },
 "nbformat": 4,
 "nbformat_minor": 4
}
