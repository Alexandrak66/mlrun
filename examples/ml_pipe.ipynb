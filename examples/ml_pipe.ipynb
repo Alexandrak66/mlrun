{
 "cells": [
  {
   "cell_type": "markdown",
   "metadata": {},
   "source": [
    "# Creating A Pipeline Using MLRUN"
   ]
  },
  {
   "cell_type": "code",
   "execution_count": 1,
   "metadata": {},
   "outputs": [],
   "source": [
    "import kfp\n",
    "from kfp import dsl\n",
    "from mlrun import run_start, mlrun_op, get_run_db\n",
    "from mlrun.platforms import mount_v3io"
   ]
  },
  {
   "cell_type": "markdown",
   "metadata": {},
   "source": [
    "<b> Test/Debug the code locally, verify its working <b>"
   ]
  },
  {
   "cell_type": "code",
   "execution_count": null,
   "metadata": {},
   "outputs": [],
   "source": [
    "!python -m mlrun run -p p1=5 -s file=secrets.txt --out-path /User/mlrun/xx  training.py"
   ]
  },
  {
   "cell_type": "markdown",
   "metadata": {},
   "source": [
    "## Build & Run a KubeFlow Pipeline \n",
    "\n",
    "This example is using iguazio shared FS (v3io), the `/User` dir is the \"Home\" for the user and the Jupyter notebook<br>\n",
    "the code is mounted into the pipeline containers (no need to rebuild containers when the code changes and the runtime have access to the user local files)\n",
    "\n",
    "MLRUN has a DB specified in the `db_path` argument (this example is using files to store runs and artifacts)<br>\n",
    "the result artifacts are versioned and stored under the specified location, each workflow have a unique artifacts directory (`/<path>/{{workflow.uid}}/`)\n",
    "\n",
    "Artifact and DB paths can use file paths or URLs for supported datastores (prefixed with s3://, v3io://, ..), <br>\n",
    "Notes: file store artifacts cannot be viewed by KFP (use object URLs), URL based stores may requieres secrets passing "
   ]
  },
  {
   "cell_type": "code",
   "execution_count": 20,
   "metadata": {},
   "outputs": [],
   "source": [
    "this_path = '/User/mlrun'\n",
    "db_path = this_path\n",
    "#artifacts_path = this_path + '/data/{{workflow.uid}}/'\n",
    "artifacts_path = 'v3io:///bigdata/mlrun/{{workflow.uid}}/'"
   ]
  },
  {
   "cell_type": "markdown",
   "metadata": {},
   "source": [
    "## Example 1: a 2 step workflow (training, validation)\n",
    "* 1st step: Execute training job with parameters <b>p1</b> and <b>p2</b>, log results and various artifacts including model (see [training.py](training.py))\n",
    "* 2nd step: take the <b>modelfile</b> from the 1st stepand conduct validation (see [validation.py](validation.py))"
   ]
  },
  {
   "cell_type": "code",
   "execution_count": 3,
   "metadata": {},
   "outputs": [],
   "source": [
    "# run training using params p1 and p2, generate 2 registered outputs (model, dataset) to be listed in the pipeline UI\n",
    "# user can specify the target path per output e.g. 'model.txt':'<some-path>', or leave blank to use the default out_path\n",
    "def mlrun_train(p1, p2):\n",
    "    return mlrun_op('training', \n",
    "                    command = this_path + '/training.py', \n",
    "                    params = {'p1':p1, 'p2':p2},\n",
    "                    outputs = {'model.txt':'', 'dataset.csv':''},\n",
    "                    out_path = artifacts_path,\n",
    "                    rundb = db_path)\n",
    "                    \n",
    "# use data (model) from the first step as an input\n",
    "def mlrun_validate(modelfile):\n",
    "    return mlrun_op('validation', \n",
    "                    command = this_path + '/validation.py', \n",
    "                    inputs = {'model.txt':modelfile},\n",
    "                    out_path = artifacts_path,\n",
    "                    rundb = db_path)"
   ]
  },
  {
   "cell_type": "markdown",
   "metadata": {},
   "source": [
    "<b> Create a Kubeflow Pipelines DSL (execution graph/DAG)</b>"
   ]
  },
  {
   "cell_type": "code",
   "execution_count": 4,
   "metadata": {},
   "outputs": [],
   "source": [
    "@dsl.pipeline(\n",
    "    name='My MLRUN pipeline',\n",
    "    description='Shows how to use mlrun.'\n",
    ")\n",
    "def mlrun_pipeline(\n",
    "   p1 = 5 , p2 = '\"text\"'\n",
    "):\n",
    "    # create a train step, apply v3io mount to it (will add the /User mount to the container)\n",
    "    train = mlrun_train(p1, p2).apply(mount_v3io())\n",
    "    \n",
    "    # feed 1st step results into the secound step\n",
    "    # Note: the '.' in model.txt must be substituted with '-'\n",
    "    validate = mlrun_validate(train.outputs['model-txt']).apply(mount_v3io())"
   ]
  },
  {
   "cell_type": "markdown",
   "metadata": {},
   "source": [
    "<b> Create the pipeline spec </b><br>\n",
    "compile the pipeline and create a YAML file from it "
   ]
  },
  {
   "cell_type": "code",
   "execution_count": 5,
   "metadata": {},
   "outputs": [],
   "source": [
    "kfp.compiler.Compiler().compile(mlrun_pipeline, 'mlrunpipe.yaml')"
   ]
  },
  {
   "cell_type": "markdown",
   "metadata": {},
   "source": [
    "<b> Create a KFP client, Experiment and run the pipeline with custom parameter </b>"
   ]
  },
  {
   "cell_type": "code",
   "execution_count": 6,
   "metadata": {},
   "outputs": [
    {
     "data": {
      "text/html": [
       "Experiment link <a href=\"/pipeline/#/experiments/details/99044409-eab1-4164-97c4-84312277e548\" target=\"_blank\" >here</a>"
      ],
      "text/plain": [
       "<IPython.core.display.HTML object>"
      ]
     },
     "metadata": {},
     "output_type": "display_data"
    },
    {
     "data": {
      "text/html": [
       "Run link <a href=\"/pipeline/#/runs/details/9b98341e-b184-11e9-8636-0aeff3c69daa\" target=\"_blank\" >here</a>"
      ],
      "text/plain": [
       "<IPython.core.display.HTML object>"
      ]
     },
     "metadata": {},
     "output_type": "display_data"
    }
   ],
   "source": [
    "client = kfp.Client(namespace='default-tenant')\n",
    "arguments = {'p1': 4}\n",
    "experiment = client.create_experiment('mlrun demo')\n",
    "run_result = client.run_pipeline(experiment.id, 'mlrun pipe demo', 'mlrunpipe.yaml', arguments)"
   ]
  },
  {
   "cell_type": "markdown",
   "metadata": {},
   "source": [
    "<b> See the run status and results in the run database </b>"
   ]
  },
  {
   "cell_type": "code",
   "execution_count": 7,
   "metadata": {},
   "outputs": [],
   "source": [
    "# connect to the run db \n",
    "db = get_run_db(db_path).connect()"
   ]
  },
  {
   "cell_type": "code",
   "execution_count": 10,
   "metadata": {},
   "outputs": [
    {
     "data": {
      "text/html": [
       "<style> \n",
       ".dictlist {\n",
       "  background-color: #b3edff; \n",
       "  text-align: center; \n",
       "  margin: 4px; \n",
       "  border-radius: 3px; padding: 0px 3px 1px 3px; display: inline-block;}\n",
       ".artifact {\n",
       "  cursor: pointer; \n",
       "  background-color: #ffe6cc; \n",
       "  text-align: left; \n",
       "  margin: 4px; border-radius: 3px; padding: 0px 3px 1px 3px; display: inline-block;\n",
       "}\n",
       "div.block.hidden {\n",
       "  display: none;\n",
       "}\n",
       ".clickable {\n",
       "  cursor: pointer;\n",
       "}\n",
       ".ellipsis {\n",
       "  display: inline-block;\n",
       "  max-width: 60px;\n",
       "  white-space: nowrap;\n",
       "  overflow: hidden;\n",
       "  text-overflow: ellipsis;\n",
       "}\n",
       ".master-wrapper {\n",
       "  display: flex;\n",
       "  flex-flow: row nowrap;\n",
       "  justify-content: flex-start;\n",
       "  align-items: stretch;\n",
       "}\n",
       ".master-tbl {\n",
       "  flex: 3\n",
       "}\n",
       ".master-wrapper > div {\n",
       "  margin: 4px;\n",
       "  padding: 10px;\n",
       "}\n",
       "iframe.fileview {\n",
       "  border: 0 none;\n",
       "  height: 100%;\n",
       "  width: 100%;\n",
       "  white-space: pre-wrap;\n",
       "}\n",
       ".pane-header-title {\n",
       "  width: 80%;\n",
       "  font-weight: 500;\n",
       "}\n",
       ".pane-header {\n",
       "  line-height: 1;\n",
       "  background-color: #ffe6cc;\n",
       "  padding: 3px;\n",
       "}\n",
       ".pane-header .close {\n",
       "  font-size: 20px;\n",
       "  font-weight: 700;\n",
       "  float: right;\n",
       "  margin-top: -5px;\n",
       "}\n",
       ".master-wrapper .right-pane {\n",
       "  border: 1px inset silver;\n",
       "  width: 40%;\n",
       "  min-height: 300px;\n",
       "  flex: 3\n",
       "  min-width: 500px;\n",
       "}\n",
       ".master-wrapper * {\n",
       "  box-sizing: border-box;\n",
       "}\n",
       "</style><script>\n",
       "function copyToClipboard(fld) {\n",
       "    if (document.queryCommandSupported && document.queryCommandSupported('copy')) {\n",
       "        var textarea = document.createElement('textarea');\n",
       "        textarea.textContent = fld.innerHTML;\n",
       "        textarea.style.position = 'fixed';\n",
       "        document.body.appendChild(textarea);\n",
       "        textarea.select();\n",
       "\n",
       "        try {\n",
       "            return document.execCommand('copy'); // Security exception may be thrown by some browsers.\n",
       "        } catch (ex) {\n",
       "\n",
       "        } finally {\n",
       "            document.body.removeChild(textarea);\n",
       "        }\n",
       "    }\n",
       "}\n",
       "function expandPanel(el) {\n",
       "  const panelName = \"#\" + el.getAttribute('paneName');\n",
       "  console.log(el.title);\n",
       "\n",
       "  document.querySelector(panelName + \"-title\").innerHTML = el.title\n",
       "  iframe = document.querySelector(panelName + \"-body\");\n",
       "  \n",
       "  const tblcss = `<style> body { font-family: Arial, Helvetica, sans-serif;}\n",
       "    #csv { margin-bottom: 15px; }\n",
       "    #csv table { border-collapse: collapse;}\n",
       "    #csv table td { padding: 4px 8px; border: 1px solid silver;} </style>`;\n",
       "\n",
       "  function csvToHtmlTable(str) {\n",
       "    return '<div id=\"csv\"><table><tr><td>' +  str.replace(/[\\n\\r]+$/g, '').replace(/[\\n\\r]+/g, '</td></tr><tr><td>')\n",
       "      .replace(/,/g, '</td><td>') + '</td></tr></table></div>';\n",
       "  }\n",
       "  \n",
       "  function reqListener () {\n",
       "    if (el.title.endsWith(\".csv\")) {\n",
       "      iframe.setAttribute(\"srcdoc\", tblcss + csvToHtmlTable(this.responseText));\n",
       "    } else {\n",
       "      iframe.setAttribute(\"srcdoc\", this.responseText);\n",
       "    }  \n",
       "    console.log(this.responseText);\n",
       "  }\n",
       "\n",
       "  const oReq = new XMLHttpRequest();\n",
       "  oReq.addEventListener(\"load\", reqListener);\n",
       "  oReq.open(\"GET\", el.title);\n",
       "  oReq.send();\n",
       "  \n",
       "  \n",
       "  //iframe.src = el.title;\n",
       "  const resultPane = document.querySelector(panelName + \"-pane\");\n",
       "  if (resultPane.classList.contains(\"hidden\")) {\n",
       "    resultPane.classList.remove(\"hidden\");\n",
       "  }\n",
       "}\n",
       "function closePanel(el) {\n",
       "  const panelName = \"#\" + el.getAttribute('paneName')\n",
       "  const resultPane = document.querySelector(panelName + \"-pane\");\n",
       "  if (!resultPane.classList.contains(\"hidden\")) {\n",
       "    resultPane.classList.add(\"hidden\");\n",
       "  }\n",
       "}\n",
       "\n",
       "</script>\n",
       "<div class=\"master-wrapper\">\n",
       "  <div class=\"block master-tbl\"><div>\n",
       "<style scoped>\n",
       "    .dataframe tbody tr th:only-of-type {\n",
       "        vertical-align: middle;\n",
       "    }\n",
       "\n",
       "    .dataframe tbody tr th {\n",
       "        vertical-align: top;\n",
       "    }\n",
       "\n",
       "    .dataframe thead th {\n",
       "        text-align: right;\n",
       "    }\n",
       "</style>\n",
       "<table border=\"1\" class=\"dataframe\">\n",
       "  <thead>\n",
       "    <tr style=\"text-align: right;\">\n",
       "      <th>uid</th>\n",
       "      <th>iter</th>\n",
       "      <th>start</th>\n",
       "      <th>state</th>\n",
       "      <th>name</th>\n",
       "      <th>labels</th>\n",
       "      <th>inputs</th>\n",
       "      <th>parameters</th>\n",
       "      <th>results</th>\n",
       "      <th>artifacts</th>\n",
       "    </tr>\n",
       "  </thead>\n",
       "  <tbody>\n",
       "    <tr>\n",
       "      <td><div title=\"1a9d9f01ac0646e7b190fa850075fd89\">...75fd89</div></td>\n",
       "      <td>0</td>\n",
       "      <td>Jul 28 22:11:35</td>\n",
       "      <td>completed</td>\n",
       "      <td>validation</td>\n",
       "      <td><div class=\"dictlist\">workflow=9b98341e-b184-11e9-8636-0aeff3c69daa</div><div class=\"dictlist\">owner=root</div><div class=\"dictlist\">host=my-mlrun-pipeline-66k76-520096857</div><div class=\"dictlist\">runtime=local</div></td>\n",
       "      <td><div class=\"artifact\" onclick=\"expandPanel(this)\" paneName=\"resultfd1deff7\" title=\"/files/mlrun/data/9b98341e-b184-11e9-8636-0aeff3c69daa/model.txt\">model.txt</div></td>\n",
       "      <td></td>\n",
       "      <td></td>\n",
       "      <td><div class=\"artifact\" onclick=\"expandPanel(this)\" paneName=\"resultfd1deff7\" title=\"/files/mlrun/data/9b98341e-b184-11e9-8636-0aeff3c69daa/validation.html\">validation.html</div></td>\n",
       "    </tr>\n",
       "    <tr>\n",
       "      <td><div title=\"00c48c797587473f85b635a008ec50d5\">...ec50d5</div></td>\n",
       "      <td>0</td>\n",
       "      <td>Jul 28 22:11:28</td>\n",
       "      <td>completed</td>\n",
       "      <td>training</td>\n",
       "      <td><div class=\"dictlist\">workflow=9b98341e-b184-11e9-8636-0aeff3c69daa</div><div class=\"dictlist\">owner=root</div><div class=\"dictlist\">host=my-mlrun-pipeline-66k76-2436334224</div><div class=\"dictlist\">runtime=local</div><div class=\"dictlist\">framework=sklearn</div></td>\n",
       "      <td><div class=\"artifact\" onclick=\"expandPanel(this)\" paneName=\"resultfd1deff7\" title=\"/files/mlrun/infile.txt\">infile.txt</div></td>\n",
       "      <td><div class=\"dictlist\">p1=4</div><div class=\"dictlist\">p2=text</div></td>\n",
       "      <td><div class=\"dictlist\">accuracy=8</div><div class=\"dictlist\">loss=12</div></td>\n",
       "      <td><div class=\"artifact\" onclick=\"expandPanel(this)\" paneName=\"resultfd1deff7\" title=\"/files/mlrun/data/9b98341e-b184-11e9-8636-0aeff3c69daa/model.txt\">model.txt</div><div class=\"artifact\" onclick=\"expandPanel(this)\" paneName=\"resultfd1deff7\" title=\"/files/mlrun/data/9b98341e-b184-11e9-8636-0aeff3c69daa/results.html\">results.html</div><div class=\"artifact\" onclick=\"expandPanel(this)\" paneName=\"resultfd1deff7\" title=\"/files/mlrun/data/9b98341e-b184-11e9-8636-0aeff3c69daa/dataset.csv\">dataset.csv</div><div class=\"artifact\" onclick=\"expandPanel(this)\" paneName=\"resultfd1deff7\" title=\"/files/mlrun/data/9b98341e-b184-11e9-8636-0aeff3c69daa/chart.html\">chart.html</div></td>\n",
       "    </tr>\n",
       "  </tbody>\n",
       "</table>\n",
       "</div></div>\n",
       "  <div id=\"resultfd1deff7-pane\" class=\"right-pane block hidden\">\n",
       "    <div class=\"pane-header\">\n",
       "      <span id=\"resultfd1deff7-title\" class=\"pane-header-title\">Title</span>\n",
       "      <span onclick=\"closePanel(this)\" paneName=\"resultfd1deff7\" class=\"close clickable\">&times;</span>\n",
       "    </div>\n",
       "    <iframe class=\"fileview\" id=\"resultfd1deff7-body\"></iframe>\n",
       "  </div>\n",
       "</div>\n"
      ],
      "text/plain": [
       "<IPython.core.display.HTML object>"
      ]
     },
     "metadata": {},
     "output_type": "display_data"
    }
   ],
   "source": [
    "# query the DB with filter on workflow ID (only show this workflow) \n",
    "db.list_runs('', labels=f'workflow={run_result.id}').show()"
   ]
  },
  {
   "cell_type": "markdown",
   "metadata": {},
   "source": [
    "## Example 2: Building a Pipeline with Hyperparams and Parallel Execution\n",
    "We may want to run the same training job with multiple parameter options, we can lavarage MLRUN paralelism<br>\n",
    ", instead or running each run in a seperate container with extra start and stop times we can use a pool of serverless functions<br>\n",
    "or containers which will run the workload in parallel.\n",
    "\n",
    "We extend our pipeline to use hyper parameters, the training Job will accept a list per parameter and will run all the parameter<br>\n",
    "combinations (GridSearch), involving the fixes parameters `params` and the expended parameters (from `hyperparams`)<br>\n",
    "since we now have an array of results (called `iterations`) we need an extra step between training and validation <br>\n",
    "(see [best_fit.py](best_fit.py)) which will select the best result.\n",
    "\n",
    "Parameter combinations can also be provided using the `param_file` option which reads the parameter values per iteration<br>\n",
    "from a CSV file (where the first row hold the parameter names and following rows hold param values).<br>\n",
    "the use of `hyperparams` and `param_file` can be extended to many tasks including data and ETL tasks<br>\n",
    "e.g. create a list of text or image file paths in a CSV file and run a step which process all those files in paralell. \n",
    "\n",
    "> Note: `Iteration` steps always generate an output `iteration_results.csv` which holds the results table<br> \n",
    "Each iteration has its specific run DB entry, but all iterations share the same default out_path, use `context.iteration`<br>\n",
    "value in your code if you want to create per iteration paths/filenames."
   ]
  },
  {
   "cell_type": "code",
   "execution_count": 21,
   "metadata": {},
   "outputs": [],
   "source": [
    "def mlrun_train(p1, p2):\n",
    "    return mlrun_op('training', \n",
    "                    command = this_path + '/training.py', \n",
    "                    params = {'p2':p2},\n",
    "                    hyperparams = {'p1': p1},\n",
    "                    out_path = artifacts_path,\n",
    "                    rundb = db_path)\n",
    "                    \n",
    "# select best fit\n",
    "def mlrun_select(iterations):\n",
    "    return mlrun_op('best_fit', \n",
    "                    command = this_path + '/best_fit.py', \n",
    "                    inputs = {'iterations.csv': iterations},\n",
    "                    outputs = {'model.txt':''},\n",
    "                    out_path = artifacts_path,\n",
    "                    rundb = db_path)              \n",
    "\n",
    "# use data from the first step\n",
    "def mlrun_validate(modelfile):\n",
    "    return mlrun_op('validation', \n",
    "                    command = this_path + '/validation.py', \n",
    "                    inputs = {'model.txt':modelfile},\n",
    "                    out_path = artifacts_path,\n",
    "                    rundb = db_path)"
   ]
  },
  {
   "cell_type": "code",
   "execution_count": 22,
   "metadata": {},
   "outputs": [],
   "source": [
    "@dsl.pipeline(\n",
    "    name='My MLRUN pipeline',\n",
    "    description='Shows how to use mlrun.'\n",
    ")\n",
    "def mlrun_pipeline(\n",
    "   p1 = [5, 6, 2] , p2 = '\"text\"'\n",
    "):\n",
    "    train = mlrun_train(p1, p2).apply(mount_v3io())\n",
    "    \n",
    "    # feed the result list into a \"best fit\" selection step\n",
    "    selector = mlrun_select(train.outputs['iterations']).apply(mount_v3io())\n",
    "    \n",
    "    # feed the best fit model into a validation step\n",
    "    validate = mlrun_validate(selector.outputs['model-txt']).apply(mount_v3io())"
   ]
  },
  {
   "cell_type": "code",
   "execution_count": 23,
   "metadata": {},
   "outputs": [],
   "source": [
    "kfp.compiler.Compiler().compile(mlrun_pipeline, 'mlrunpipe_hyper.yaml')"
   ]
  },
  {
   "cell_type": "code",
   "execution_count": 24,
   "metadata": {},
   "outputs": [
    {
     "data": {
      "text/html": [
       "Experiment link <a href=\"/pipeline/#/experiments/details/22869312-35f5-4f65-b96f-d5f926eb62eb\" target=\"_blank\" >here</a>"
      ],
      "text/plain": [
       "<IPython.core.display.HTML object>"
      ]
     },
     "metadata": {},
     "output_type": "display_data"
    },
    {
     "data": {
      "text/html": [
       "Run link <a href=\"/pipeline/#/runs/details/2c9e86bd-b189-11e9-8636-0aeff3c69daa\" target=\"_blank\" >here</a>"
      ],
      "text/plain": [
       "<IPython.core.display.HTML object>"
      ]
     },
     "metadata": {},
     "output_type": "display_data"
    }
   ],
   "source": [
    "client = kfp.Client(namespace='default-tenant')\n",
    "arguments = {'p1': [5, 7, 3]}\n",
    "experiment = client.create_experiment('mlrun demo hyper')\n",
    "run_result = client.run_pipeline(experiment.id, 'mlrun hyper pipe demo', 'mlrunpipe_hyper.yaml', arguments)"
   ]
  },
  {
   "cell_type": "markdown",
   "metadata": {},
   "source": [
    "<b> See the run status and results in the run database </b>"
   ]
  },
  {
   "cell_type": "code",
   "execution_count": 25,
   "metadata": {},
   "outputs": [
    {
     "data": {
      "text/html": [
       "<style> \n",
       ".dictlist {\n",
       "  background-color: #b3edff; \n",
       "  text-align: center; \n",
       "  margin: 4px; \n",
       "  border-radius: 3px; padding: 0px 3px 1px 3px; display: inline-block;}\n",
       ".artifact {\n",
       "  cursor: pointer; \n",
       "  background-color: #ffe6cc; \n",
       "  text-align: left; \n",
       "  margin: 4px; border-radius: 3px; padding: 0px 3px 1px 3px; display: inline-block;\n",
       "}\n",
       "div.block.hidden {\n",
       "  display: none;\n",
       "}\n",
       ".clickable {\n",
       "  cursor: pointer;\n",
       "}\n",
       ".ellipsis {\n",
       "  display: inline-block;\n",
       "  max-width: 60px;\n",
       "  white-space: nowrap;\n",
       "  overflow: hidden;\n",
       "  text-overflow: ellipsis;\n",
       "}\n",
       ".master-wrapper {\n",
       "  display: flex;\n",
       "  flex-flow: row nowrap;\n",
       "  justify-content: flex-start;\n",
       "  align-items: stretch;\n",
       "}\n",
       ".master-tbl {\n",
       "  flex: 3\n",
       "}\n",
       ".master-wrapper > div {\n",
       "  margin: 4px;\n",
       "  padding: 10px;\n",
       "}\n",
       "iframe.fileview {\n",
       "  border: 0 none;\n",
       "  height: 100%;\n",
       "  width: 100%;\n",
       "  white-space: pre-wrap;\n",
       "}\n",
       ".pane-header-title {\n",
       "  width: 80%;\n",
       "  font-weight: 500;\n",
       "}\n",
       ".pane-header {\n",
       "  line-height: 1;\n",
       "  background-color: #ffe6cc;\n",
       "  padding: 3px;\n",
       "}\n",
       ".pane-header .close {\n",
       "  font-size: 20px;\n",
       "  font-weight: 700;\n",
       "  float: right;\n",
       "  margin-top: -5px;\n",
       "}\n",
       ".master-wrapper .right-pane {\n",
       "  border: 1px inset silver;\n",
       "  width: 40%;\n",
       "  min-height: 300px;\n",
       "  flex: 3\n",
       "  min-width: 500px;\n",
       "}\n",
       ".master-wrapper * {\n",
       "  box-sizing: border-box;\n",
       "}\n",
       "</style><script>\n",
       "function copyToClipboard(fld) {\n",
       "    if (document.queryCommandSupported && document.queryCommandSupported('copy')) {\n",
       "        var textarea = document.createElement('textarea');\n",
       "        textarea.textContent = fld.innerHTML;\n",
       "        textarea.style.position = 'fixed';\n",
       "        document.body.appendChild(textarea);\n",
       "        textarea.select();\n",
       "\n",
       "        try {\n",
       "            return document.execCommand('copy'); // Security exception may be thrown by some browsers.\n",
       "        } catch (ex) {\n",
       "\n",
       "        } finally {\n",
       "            document.body.removeChild(textarea);\n",
       "        }\n",
       "    }\n",
       "}\n",
       "function expandPanel(el) {\n",
       "  const panelName = \"#\" + el.getAttribute('paneName');\n",
       "  console.log(el.title);\n",
       "\n",
       "  document.querySelector(panelName + \"-title\").innerHTML = el.title\n",
       "  iframe = document.querySelector(panelName + \"-body\");\n",
       "  \n",
       "  const tblcss = `<style> body { font-family: Arial, Helvetica, sans-serif;}\n",
       "    #csv { margin-bottom: 15px; }\n",
       "    #csv table { border-collapse: collapse;}\n",
       "    #csv table td { padding: 4px 8px; border: 1px solid silver;} </style>`;\n",
       "\n",
       "  function csvToHtmlTable(str) {\n",
       "    return '<div id=\"csv\"><table><tr><td>' +  str.replace(/[\\n\\r]+$/g, '').replace(/[\\n\\r]+/g, '</td></tr><tr><td>')\n",
       "      .replace(/,/g, '</td><td>') + '</td></tr></table></div>';\n",
       "  }\n",
       "  \n",
       "  function reqListener () {\n",
       "    if (el.title.endsWith(\".csv\")) {\n",
       "      iframe.setAttribute(\"srcdoc\", tblcss + csvToHtmlTable(this.responseText));\n",
       "    } else {\n",
       "      iframe.setAttribute(\"srcdoc\", this.responseText);\n",
       "    }  \n",
       "    console.log(this.responseText);\n",
       "  }\n",
       "\n",
       "  const oReq = new XMLHttpRequest();\n",
       "  oReq.addEventListener(\"load\", reqListener);\n",
       "  oReq.open(\"GET\", el.title);\n",
       "  oReq.send();\n",
       "  \n",
       "  \n",
       "  //iframe.src = el.title;\n",
       "  const resultPane = document.querySelector(panelName + \"-pane\");\n",
       "  if (resultPane.classList.contains(\"hidden\")) {\n",
       "    resultPane.classList.remove(\"hidden\");\n",
       "  }\n",
       "}\n",
       "function closePanel(el) {\n",
       "  const panelName = \"#\" + el.getAttribute('paneName')\n",
       "  const resultPane = document.querySelector(panelName + \"-pane\");\n",
       "  if (!resultPane.classList.contains(\"hidden\")) {\n",
       "    resultPane.classList.add(\"hidden\");\n",
       "  }\n",
       "}\n",
       "\n",
       "</script>\n",
       "<div class=\"master-wrapper\">\n",
       "  <div class=\"block master-tbl\"><div>\n",
       "<style scoped>\n",
       "    .dataframe tbody tr th:only-of-type {\n",
       "        vertical-align: middle;\n",
       "    }\n",
       "\n",
       "    .dataframe tbody tr th {\n",
       "        vertical-align: top;\n",
       "    }\n",
       "\n",
       "    .dataframe thead th {\n",
       "        text-align: right;\n",
       "    }\n",
       "</style>\n",
       "<table border=\"1\" class=\"dataframe\">\n",
       "  <thead>\n",
       "    <tr style=\"text-align: right;\">\n",
       "      <th>uid</th>\n",
       "      <th>iter</th>\n",
       "      <th>start</th>\n",
       "      <th>state</th>\n",
       "      <th>name</th>\n",
       "      <th>labels</th>\n",
       "      <th>inputs</th>\n",
       "      <th>parameters</th>\n",
       "      <th>results</th>\n",
       "      <th>artifacts</th>\n",
       "    </tr>\n",
       "  </thead>\n",
       "  <tbody>\n",
       "    <tr>\n",
       "      <td><div title=\"4f637c12f8ab4675aba36563b23fa36c\">...3fa36c</div></td>\n",
       "      <td>1</td>\n",
       "      <td>Jul 28 22:43:58</td>\n",
       "      <td>completed</td>\n",
       "      <td>training</td>\n",
       "      <td><div class=\"dictlist\">workflow=2c9e86bd-b189-11e9-8636-0aeff3c69daa</div><div class=\"dictlist\">owner=root</div><div class=\"dictlist\">host=my-mlrun-pipeline-8p7c7-855036829</div><div class=\"dictlist\">runtime=local</div><div class=\"dictlist\">framework=sklearn</div></td>\n",
       "      <td><div class=\"artifact\" onclick=\"expandPanel(this)\" paneName=\"result0ab7338f\" title=\"/files/mlrun/infile.txt\">infile.txt</div></td>\n",
       "      <td><div class=\"dictlist\">p2=text</div><div class=\"dictlist\">p1=5</div></td>\n",
       "      <td><div class=\"dictlist\">accuracy=10</div><div class=\"dictlist\">loss=15</div></td>\n",
       "      <td><div class=\"artifact\" onclick=\"expandPanel(this)\" paneName=\"result0ab7338f\" title=\"files/v3io/bigdata/mlrun/2c9e86bd-b189-11e9-8636-0aeff3c69daa/model.txt\">model.txt</div><div class=\"artifact\" onclick=\"expandPanel(this)\" paneName=\"result0ab7338f\" title=\"files/v3io/bigdata/mlrun/2c9e86bd-b189-11e9-8636-0aeff3c69daa/results.html\">results.html</div><div class=\"artifact\" onclick=\"expandPanel(this)\" paneName=\"result0ab7338f\" title=\"files/v3io/bigdata/mlrun/2c9e86bd-b189-11e9-8636-0aeff3c69daa/dataset.csv\">dataset.csv</div><div class=\"artifact\" onclick=\"expandPanel(this)\" paneName=\"result0ab7338f\" title=\"files/v3io/bigdata/mlrun/2c9e86bd-b189-11e9-8636-0aeff3c69daa/chart.html\">chart.html</div></td>\n",
       "    </tr>\n",
       "    <tr>\n",
       "      <td><div title=\"4f637c12f8ab4675aba36563b23fa36c\">...3fa36c</div></td>\n",
       "      <td>0</td>\n",
       "      <td>Jul 28 22:43:57</td>\n",
       "      <td>running</td>\n",
       "      <td>training</td>\n",
       "      <td><div class=\"dictlist\">workflow=2c9e86bd-b189-11e9-8636-0aeff3c69daa</div><div class=\"dictlist\">owner=root</div><div class=\"dictlist\">host=my-mlrun-pipeline-8p7c7-855036829</div><div class=\"dictlist\">runtime=local</div></td>\n",
       "      <td></td>\n",
       "      <td><div class=\"dictlist\">p2=text</div></td>\n",
       "      <td></td>\n",
       "      <td></td>\n",
       "    </tr>\n",
       "  </tbody>\n",
       "</table>\n",
       "</div></div>\n",
       "  <div id=\"result0ab7338f-pane\" class=\"right-pane block hidden\">\n",
       "    <div class=\"pane-header\">\n",
       "      <span id=\"result0ab7338f-title\" class=\"pane-header-title\">Title</span>\n",
       "      <span onclick=\"closePanel(this)\" paneName=\"result0ab7338f\" class=\"close clickable\">&times;</span>\n",
       "    </div>\n",
       "    <iframe class=\"fileview\" id=\"result0ab7338f-body\"></iframe>\n",
       "  </div>\n",
       "</div>\n"
      ],
      "text/plain": [
       "<IPython.core.display.HTML object>"
      ]
     },
     "metadata": {},
     "output_type": "display_data"
    }
   ],
   "source": [
    "db.list_runs('', labels=f'workflow={run_result.id}').show()"
   ]
  },
  {
   "cell_type": "code",
   "execution_count": null,
   "metadata": {},
   "outputs": [],
   "source": []
  }
 ],
 "metadata": {
  "kernelspec": {
   "display_name": "Python 3",
   "language": "python",
   "name": "python3"
  },
  "language_info": {
   "codemirror_mode": {
    "name": "ipython",
    "version": 3
   },
   "file_extension": ".py",
   "mimetype": "text/x-python",
   "name": "python",
   "nbconvert_exporter": "python",
   "pygments_lexer": "ipython3",
   "version": "3.6.8"
  }
 },
 "nbformat": 4,
 "nbformat_minor": 2
}
